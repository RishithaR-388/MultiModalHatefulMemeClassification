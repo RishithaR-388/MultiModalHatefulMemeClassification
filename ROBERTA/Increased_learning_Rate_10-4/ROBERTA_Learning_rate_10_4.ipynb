{
  "nbformat": 4,
  "nbformat_minor": 0,
  "metadata": {
    "colab": {
      "provenance": [],
      "gpuType": "T4"
    },
    "kernelspec": {
      "name": "python3",
      "display_name": "Python 3"
    },
    "language_info": {
      "name": "python"
    },
    "accelerator": "GPU"
  },
  "cells": [
    {
      "cell_type": "code",
      "execution_count": 7,
      "metadata": {
        "colab": {
          "base_uri": "https://localhost:8080/"
        },
        "id": "0JjgAQPXLxu-",
        "outputId": "193d2ae6-45ea-40f5-87ba-d124fa71f41a"
      },
      "outputs": [
        {
          "output_type": "stream",
          "name": "stdout",
          "text": [
            "Sun Nov 19 11:41:29 2023       \n",
            "+-----------------------------------------------------------------------------+\n",
            "| NVIDIA-SMI 525.105.17   Driver Version: 525.105.17   CUDA Version: 12.0     |\n",
            "|-------------------------------+----------------------+----------------------+\n",
            "| GPU  Name        Persistence-M| Bus-Id        Disp.A | Volatile Uncorr. ECC |\n",
            "| Fan  Temp  Perf  Pwr:Usage/Cap|         Memory-Usage | GPU-Util  Compute M. |\n",
            "|                               |                      |               MIG M. |\n",
            "|===============================+======================+======================|\n",
            "|   0  Tesla T4            Off  | 00000000:00:04.0 Off |                    0 |\n",
            "| N/A   73C    P0    30W /  70W |      0MiB / 15360MiB |      0%      Default |\n",
            "|                               |                      |                  N/A |\n",
            "+-------------------------------+----------------------+----------------------+\n",
            "                                                                               \n",
            "+-----------------------------------------------------------------------------+\n",
            "| Processes:                                                                  |\n",
            "|  GPU   GI   CI        PID   Type   Process name                  GPU Memory |\n",
            "|        ID   ID                                                   Usage      |\n",
            "|=============================================================================|\n",
            "|  No running processes found                                                 |\n",
            "+-----------------------------------------------------------------------------+\n"
          ]
        }
      ],
      "source": [
        "!nvidia-smi"
      ]
    },
    {
      "cell_type": "code",
      "source": [
        "!git clone https://gitlab.com/bottle_shop/safe/prompthate"
      ],
      "metadata": {
        "colab": {
          "base_uri": "https://localhost:8080/"
        },
        "id": "P_b1iJs0MWmi",
        "outputId": "6821e6f3-a3c6-4a73-955f-02ff7fb21dff"
      },
      "execution_count": 2,
      "outputs": [
        {
          "output_type": "stream",
          "name": "stdout",
          "text": [
            "Cloning into 'prompthate'...\n",
            "warning: redirecting to https://gitlab.com/bottle_shop/safe/prompthate.git/\n",
            "remote: Enumerating objects: 95, done.\u001b[K\n",
            "remote: Total 95 (delta 0), reused 0 (delta 0), pack-reused 95\u001b[K\n",
            "Receiving objects: 100% (95/95), 3.74 MiB | 10.62 MiB/s, done.\n",
            "Resolving deltas: 100% (30/30), done.\n"
          ]
        }
      ]
    },
    {
      "cell_type": "code",
      "source": [
        "%cd /content/prompthate/PromptHate-Code/"
      ],
      "metadata": {
        "colab": {
          "base_uri": "https://localhost:8080/"
        },
        "id": "JhZJomT4Mcjp",
        "outputId": "ee96fb97-57ad-4145-dbab-9b600dfdb0cd"
      },
      "execution_count": 3,
      "outputs": [
        {
          "output_type": "stream",
          "name": "stdout",
          "text": [
            "/content/prompthate/PromptHate-Code\n"
          ]
        }
      ]
    },
    {
      "cell_type": "code",
      "source": [
        "%ls"
      ],
      "metadata": {
        "colab": {
          "base_uri": "https://localhost:8080/"
        },
        "id": "DbY2eC-fMf0O",
        "outputId": "474ae41a-d302-47c4-e651-ab9592aaf042"
      },
      "execution_count": 4,
      "outputs": [
        {
          "output_type": "stream",
          "name": "stdout",
          "text": [
            "alternative_roberta_baseline.py  dataset.py  processor.py         roberta_dataset.py\n",
            "baseline.py                      \u001b[0m\u001b[01;34mharm\u001b[0m/       \u001b[01;34m__pycache__\u001b[0m/         run.sh\n",
            "classifier.py                    main.py     rela_encoder.py      train.py\n",
            "config.py                        \u001b[01;34mmem\u001b[0m/        roberta_baseline.py  utils.py\n"
          ]
        }
      ]
    },
    {
      "cell_type": "code",
      "source": [
        "!bash run.sh"
      ],
      "metadata": {
        "colab": {
          "base_uri": "https://localhost:8080/"
        },
        "id": "u_npFU55MiYl",
        "outputId": "3448039d-a2a2-4ff0-faeb-0ef19a35fe78"
      },
      "execution_count": null,
      "outputs": [
        {
          "output_type": "stream",
          "name": "stdout",
          "text": [
            "100% 1/1 [00:05<00:00,  5.13s/it]\n",
            "100% 1/1 [00:00<00:00,  4.69it/s]\n",
            "/usr/local/lib/python3.10/dist-packages/transformers/optimization.py:411: FutureWarning: This implementation of AdamW is deprecated and will be removed in a future version. Use the PyTorch implementation torch.optim.AdamW instead, or set `no_deprecation_warning=True` to disable this warning\n",
            "  warnings.warn(\n",
            "100% 1/1 [00:00<00:00,  3.74it/s]\n",
            "100% 1/1 [00:00<00:00,  2.58it/s]\n",
            "100% 1/1 [00:00<00:00,  4.97it/s]\n",
            "100% 1/1 [00:00<00:00,  5.09it/s]\n",
            "100% 1/1 [00:00<00:00,  2.36it/s]\n",
            "100% 1/1 [00:00<00:00,  2.36it/s]\n",
            "100% 1/1 [00:00<00:00,  2.48it/s]\n",
            "100% 1/1 [00:00<00:00,  2.48it/s]\n",
            "100% 1/1 [00:00<00:00,  4.65it/s]\n",
            "100% 1/1 [00:00<00:00,  4.65it/s]\n",
            "100% 1/1 [00:00<00:00,  5.03it/s]\n",
            "100% 1/1 [00:00<00:00,  5.03it/s]\n",
            "100% 1/1 [00:00<00:00,  5.53it/s]\n",
            "100% 1/1 [00:00<00:00,  5.53it/s]\n",
            "100% 1/1 [00:00<00:00,  4.97it/s]\n",
            "100% 1/1 [00:00<00:00,  4.97it/s]\n",
            "100% 1/1 [00:00<00:00,  5.12it/s]\n",
            "100% 1/1 [00:00<00:00,  5.12it/s]\n",
            "100% 1/1 [00:00<00:00,  2.72it/s]\n",
            "100% 1/1 [00:00<00:00,  2.72it/s]\n",
            "100% 1/1 [00:00<00:00,  5.09it/s]\n",
            "100% 1/1 [00:00<00:00,  5.09it/s]\n",
            "100% 1/1 [00:00<00:00,  4.91it/s]\n",
            "100% 1/1 [00:00<00:00,  4.91it/s]\n",
            "100% 1/1 [00:00<00:00,  5.04it/s]\n",
            "100% 1/1 [00:00<00:00,  5.04it/s]\n",
            "100% 1/1 [00:00<00:00,  4.89it/s]\n",
            "100% 1/1 [00:00<00:00,  4.89it/s]\n",
            "100% 1/1 [00:00<00:00,  5.15it/s]\n",
            "100% 1/1 [00:00<00:00,  5.15it/s]\n",
            "100% 1/1 [00:00<00:00,  3.95it/s]\n",
            "100% 1/1 [00:00<00:00,  3.95it/s]\n",
            "100% 1/1 [00:00<00:00,  5.13it/s]\n",
            "100% 1/1 [00:00<00:00,  5.13it/s]\n",
            "100% 1/1 [00:00<00:00,  4.81it/s]\n",
            "100% 1/1 [00:00<00:00,  4.81it/s]\n",
            "100% 1/1 [00:00<00:00,  5.22it/s]\n",
            "100% 1/1 [00:00<00:00,  5.22it/s]\n",
            "100% 1/1 [00:00<00:00,  4.41it/s]\n",
            "100% 1/1 [00:00<00:00,  4.41it/s]\n",
            "100% 1/1 [00:00<00:00,  5.23it/s]\n",
            "100% 1/1 [00:00<00:00,  5.23it/s]\n",
            "100% 1/1 [00:00<00:00,  4.89it/s]\n",
            "100% 1/1 [00:00<00:00,  4.89it/s]\n",
            "100% 1/1 [00:00<00:00,  5.39it/s]\n",
            "100% 1/1 [00:00<00:00,  5.39it/s]\n",
            "100% 1/1 [00:00<00:00,  4.72it/s]\n",
            "100% 1/1 [00:00<00:00,  4.72it/s]\n",
            "100% 1/1 [00:00<00:00,  5.08it/s]\n",
            "100% 1/1 [00:00<00:00,  5.08it/s]\n",
            "100% 1/1 [00:00<00:00,  4.90it/s]\n",
            "100% 1/1 [00:00<00:00,  4.90it/s]\n",
            "100% 1/1 [00:00<00:00,  5.31it/s]\n",
            "100% 1/1 [00:00<00:00,  5.31it/s]\n",
            "100% 1/1 [00:00<00:00,  5.07it/s]\n",
            "100% 1/1 [00:00<00:00,  5.07it/s]\n",
            "100% 1/1 [00:00<00:00,  5.24it/s]\n",
            "100% 1/1 [00:00<00:00,  5.24it/s]\n",
            "100% 1/1 [00:00<00:00,  4.64it/s]\n",
            "100% 1/1 [00:00<00:00,  4.64it/s]\n",
            "100% 1/1 [00:00<00:00,  5.19it/s]\n",
            "100% 1/1 [00:00<00:00,  5.19it/s]\n",
            "100% 1/1 [00:00<00:00,  4.94it/s]\n",
            "100% 1/1 [00:00<00:00,  4.94it/s]\n",
            "100% 1/1 [00:00<00:00,  5.14it/s]\n",
            "100% 1/1 [00:00<00:00,  5.14it/s]\n",
            "100% 1/1 [00:00<00:00,  4.99it/s]\n",
            "100% 1/1 [00:00<00:00,  4.99it/s]\n"
          ]
        }
      ]
    }
  ]
}